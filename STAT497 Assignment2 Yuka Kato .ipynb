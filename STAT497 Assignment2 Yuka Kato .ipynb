{
 "cells": [
  {
   "cell_type": "code",
   "execution_count": 21,
   "id": "52fcb5e6",
   "metadata": {},
   "outputs": [],
   "source": [
    "import numpy as numpy\n",
    "import pandas as pandas\n",
    "import matplotlib as matplotlib\n",
    "\n",
    "from matplotlib import pyplot as plt"
   ]
  },
  {
   "cell_type": "code",
   "execution_count": 108,
   "id": "a7f00aa7",
   "metadata": {},
   "outputs": [
    {
     "data": {
      "image/png": "[encoded data removed]",
      "text/plain": [
       "<Figure size 640x480 with 1 Axes>"
      ]
     },
     "metadata": {},
     "output_type": "display_data"
    }
   ],
   "source": [
    "def tennis_court():\n",
    "    #tennis court dimension\n",
    "    width=36 #in feet\n",
    "    length=78 #in feet\n",
    "    fig, ax = plt.subplots()\n",
    "    \n",
    "    #create the outline of the court  \n",
    "    ax.plot([0, length, length, 0, 0], [0, 0, width, width, 0], color=\"white\")\n",
    "    \n",
    "    #create the singles sideline(lower)\n",
    "    ax.plot([0, length, length, 0, 0], [0, 0, 4.5, 4.5, 0], color=\"white\")\n",
    "    \n",
    "    #create the singles sideline(upper)\n",
    "    ax.plot([0, length, length, 0, 0], [width-4.5, width-4.5, width, width, width-4.5], color=\"white\")\n",
    "    \n",
    "    #add center mark(left)\n",
    "    ax.plot([0, 4], [width/2, width/2], color=\"white\")\n",
    "    \n",
    "    #add center mark(right)\n",
    "    ax.plot([length-4, length], [width/2, width/2], color=\"white\")\n",
    "    \n",
    "    #add service line(left)\n",
    "    ax.plot([18, 18], [4.5, width-4.5], color=\"white\")\n",
    "    \n",
    "    #add service line(right)\n",
    "    ax.plot([length-18, length-18], [4.5, width-4.5], color=\"white\")\n",
    "    \n",
    "    # add center service line\n",
    "    ax.plot([18, length-18], [width/2, width/2], color=\"white\")\n",
    "    \n",
    "    #add net line\n",
    "    ax.plot([length/2, length/2], [-1.5, width+1.5], color=\"white\")\n",
    "    \n",
    "    \n",
    "    ax.set_facecolor(\"green\")\n",
    "    \n",
    "    #add legends and modify labels of axis\n",
    "    plt.title(\"Tennis Court\")\n",
    "    ax.spines[[\"bottom\", \"top\", \"right\", \"left\"]].set_visible(False)\n",
    "    plt.xticks(visible=False)\n",
    "    plt.yticks(visible=False)\n",
    "    \n",
    "tennis_court()"
   ]
  },
  {
   "cell_type": "code",
   "execution_count": null,
   "id": "3be773bd",
   "metadata": {},
   "outputs": [],
   "source": []
  },
  {
   "cell_type": "code",
   "execution_count": null,
   "id": "4f188bb4",
   "metadata": {},
   "outputs": [],
   "source": []
  },
  {
   "cell_type": "code",
   "execution_count": null,
   "id": "9efc35d5",
   "metadata": {},
   "outputs": [],
   "source": []
  }
 ],
 "metadata": {
  "kernelspec": {
   "display_name": "Python 3 (ipykernel)",
   "language": "python",
   "name": "python3"
  },
  "language_info": {
   "codemirror_mode": {
    "name": "ipython",
    "version": 3
   },
   "file_extension": ".py",
   "mimetype": "text/x-python",
   "name": "python",
   "nbconvert_exporter": "python",
   "pygments_lexer": "ipython3",
   "version": "3.11.5"
  }
 },
 "nbformat": 4,
 "nbformat_minor": 5
}
